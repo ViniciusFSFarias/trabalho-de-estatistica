{
 "cells": [
  {
   "cell_type": "code",
   "execution_count": 6,
   "metadata": {},
   "outputs": [],
   "source": [
    "from math import sqrt, factorial, e\n",
    "import numpy as np"
   ]
  },
  {
   "cell_type": "markdown",
   "metadata": {},
   "source": [
    "a) \n",
    "quantidade de diodos = 200\n",
    "probabilidade de diodo defeituoso = 0,01\n",
    "probabilidade de diodo normal = 0,99\n",
    "lambda = 200*0,01 \n",
    "\n",
    "Como é uma aplicação de poyson, E(x) = V(x) = lambda\n",
    "O desvio padrão vai ser a raiz de V(x)"
   ]
  },
  {
   "cell_type": "code",
   "execution_count": 7,
   "metadata": {},
   "outputs": [
    {
     "name": "stdout",
     "output_type": "stream",
     "text": [
      "Quantidade de pecas defeituosas: 2.00\tDesvio padrao: 1.414\n"
     ]
    }
   ],
   "source": [
    "quant  = 200\n",
    "p = 0.01\n",
    "q = 1 - p\n",
    "lamb = quant*p\n",
    "\n",
    "E = lamb \n",
    "V = lamb\n",
    "DesvPad = sqrt(V)\n",
    "\n",
    "print(f\"Quantidade de pecas defeituosas: {E:.2f}\\tDesvio padrao: {DesvPad:.3f}\")"
   ]
  },
  {
   "cell_type": "markdown",
   "metadata": {},
   "source": [
    "b) \n",
    "Probabilidade de 1 diodo quebrado = 0,01\n",
    "Probabilidade de 2 diodos quebrados = 0,02\n",
    "Probabilidade de 3 diodos quebrando = 0,03\n",
    "\n",
    "lambda = 2\n",
    "\n",
    "prob_lambda  = 0.8571\n",
    "\n",
    "prob_sucesso1 = 1 - prob_lambda"
   ]
  },
  {
   "cell_type": "code",
   "execution_count": 8,
   "metadata": {},
   "outputs": [
    {
     "name": "stdout",
     "output_type": "stream",
     "text": [
      "lamb = 2.0\n",
      "\n",
      "Prob de até 3 diodos defeituosos = 14.2900%\n"
     ]
    }
   ],
   "source": [
    "quant = 200\n",
    "\n",
    "p = 0.01\n",
    "\n",
    "lamb = quant*p\n",
    "\n",
    "print(f\"lamb = {lamb}\")\n",
    "\n",
    "prob_sucesso = 1 - 0.8571\n",
    "\n",
    "print(f\"\\nProb de até 3 diodos defeituosos = {prob_sucesso*100:.4f}%\")"
   ]
  },
  {
   "cell_type": "markdown",
   "metadata": {},
   "source": [
    "c)\n",
    "Prob de todoas as placas funcionando = lambda(0, 2) = 0.1353\n",
    "P(Pelo menos 4 placas ok) = P(4 placas ok) + P(5 placas ok)"
   ]
  },
  {
   "cell_type": "code",
   "execution_count": 9,
   "metadata": {},
   "outputs": [
    {
     "name": "stdout",
     "output_type": "stream",
     "text": [
      "lambda = 2.0\t prob para lambda com x = 2 = 0.1353\n",
      "Probabilidade de pelo menos 4 placas ok = 0.149%\n"
     ]
    }
   ],
   "source": [
    "quant = 200\n",
    "\n",
    "p = 0.01\n",
    "\n",
    "lamb = quant*p\n",
    "\n",
    "print(f\"lambda = {lamb}\\t prob para lambda com x = 2 = 0.1353\")\n",
    "\n",
    "def Combinatoria(n:int, x:int):\n",
    "    return factorial(n)/(factorial(x)*factorial(n-x))\n",
    "\n",
    "p4 = Combinatoria(5, 4)*(0.1353**4)*(1-0.1353)**(5-4)\n",
    "p5 = Combinatoria(5, 5)*(0.1353**5)*(1-0.1353)**(5-5)\n",
    "\n",
    "print(f\"Probabilidade de pelo menos 4 placas ok = {(p4+p5)*100:.3f}%\")"
   ]
  }
 ],
 "metadata": {
  "kernelspec": {
   "display_name": "Python 3.10.7 64-bit",
   "language": "python",
   "name": "python3"
  },
  "language_info": {
   "codemirror_mode": {
    "name": "ipython",
    "version": 3
   },
   "file_extension": ".py",
   "mimetype": "text/x-python",
   "name": "python",
   "nbconvert_exporter": "python",
   "pygments_lexer": "ipython3",
   "version": "3.10.7"
  },
  "orig_nbformat": 4,
  "vscode": {
   "interpreter": {
    "hash": "a5ccffe4b7354081d54e3de3a0f301602474c8967a4088a55dbad21edf3ea6ec"
   }
  }
 },
 "nbformat": 4,
 "nbformat_minor": 2
}
