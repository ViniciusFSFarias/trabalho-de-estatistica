{
 "cells": [
  {
   "cell_type": "code",
   "execution_count": 9,
   "metadata": {},
   "outputs": [],
   "source": [
    "from math import sqrt, factorial, e\n",
    "import numpy as np"
   ]
  },
  {
   "cell_type": "markdown",
   "metadata": {},
   "source": [
    "Topico A = 2 livros\n",
    "Topico B = 4 livros\n",
    "\n",
    "Condição de sucesso = pelo menos metade dos livros chegarem no prazo\n",
    "\n",
    "ProbSucessoA = P(1 livro chegar) + P(2 livros chegarem)\n",
    "ProbSucessoB = P(2 livros chegarem) + P(3 livros chegarem) + P(4 livros chegarem)"
   ]
  },
  {
   "cell_type": "code",
   "execution_count": 10,
   "metadata": {},
   "outputs": [
    {
     "name": "stdout",
     "output_type": "stream",
     "text": [
      "Probabilidade de bom trabalho com topico A = 99.0%\tProbabilidade de bom trabalho com topico B = 99.63%\n",
      "\n",
      "O topico B eh melhor\n"
     ]
    }
   ],
   "source": [
    "nA = 2\n",
    "nB = 4\n",
    "p = 0.9\n",
    "\n",
    "def Combinatoria(n:int, x:int):\n",
    "    return factorial(n)/(factorial(x)*factorial(n-x))\n",
    "\n",
    "pbA = Combinatoria(2, 1)*(p**1)*(1-p)**(2-1) + Combinatoria(2, 2)*(p**2)*(1-p)**(2-2)\n",
    "pbB = Combinatoria(4, 2)*(p**2)*(1-p)**(4-2) + Combinatoria(4, 3)*(p**3)*(1-p)**(4-3) + Combinatoria(4, 4)*(p**4)*(1-p)**(4-4)\n",
    "\n",
    "print(f\"Probabilidade de bom trabalho com topico A = {pbA*100}%\\tProbabilidade de bom trabalho com topico B = {pbB*100}%\")\n",
    "\n",
    "if(pbA > pbB):\n",
    "    print(\"\\nO topico A eh melhor\")\n",
    "else:\n",
    "    print(\"\\nO topico B eh melhor\")"
   ]
  },
  {
   "cell_type": "code",
   "execution_count": 11,
   "metadata": {},
   "outputs": [
    {
     "name": "stdout",
     "output_type": "stream",
     "text": [
      "Probabilidade de bom trabalho com topico A = 75.0%\tProbabilidade de bom trabalho com topico B = 68.75%\n",
      "\n",
      "O topico A eh melhor\n"
     ]
    }
   ],
   "source": [
    "nA = 2\n",
    "nB = 4\n",
    "p = 0.5\n",
    "\n",
    "def Combinatoria(n:int, x:int):\n",
    "    return factorial(n)/(factorial(x)*factorial(n-x))\n",
    "\n",
    "pbA = Combinatoria(2, 1)*(p**1)*(1-p)**(2-1) + Combinatoria(2, 2)*(p**2)*(1-p)**(2-2)\n",
    "pbB = Combinatoria(4, 2)*(p**2)*(1-p)**(4-2) + Combinatoria(4, 3)*(p**3)*(1-p)**(4-3) + Combinatoria(4, 4)*(p**4)*(1-p)**(4-4)\n",
    "\n",
    "print(f\"Probabilidade de bom trabalho com topico A = {pbA*100}%\\tProbabilidade de bom trabalho com topico B = {pbB*100}%\")\n",
    "\n",
    "if(pbA > pbB):\n",
    "    print(\"\\nO topico A eh melhor\")\n",
    "else:\n",
    "    print(\"\\nO topico B eh melhor\")"
   ]
  }
 ],
 "metadata": {
  "kernelspec": {
   "display_name": "Python 3.10.7 64-bit",
   "language": "python",
   "name": "python3"
  },
  "language_info": {
   "codemirror_mode": {
    "name": "ipython",
    "version": 3
   },
   "file_extension": ".py",
   "mimetype": "text/x-python",
   "name": "python",
   "nbconvert_exporter": "python",
   "pygments_lexer": "ipython3",
   "version": "3.10.7"
  },
  "orig_nbformat": 4,
  "vscode": {
   "interpreter": {
    "hash": "a5ccffe4b7354081d54e3de3a0f301602474c8967a4088a55dbad21edf3ea6ec"
   }
  }
 },
 "nbformat": 4,
 "nbformat_minor": 2
}
